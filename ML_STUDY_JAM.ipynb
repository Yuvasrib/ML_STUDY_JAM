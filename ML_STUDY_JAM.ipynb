{
  "nbformat": 4,
  "nbformat_minor": 0,
  "metadata": {
    "colab": {
      "provenance": [],
      "authorship_tag": "ABX9TyNj30wQHRsapF2eB2h25ZTa",
      "include_colab_link": true
    },
    "kernelspec": {
      "name": "python3",
      "display_name": "Python 3"
    },
    "language_info": {
      "name": "python"
    }
  },
  "cells": [
    {
      "cell_type": "markdown",
      "metadata": {
        "id": "view-in-github",
        "colab_type": "text"
      },
      "source": [
        "<a href=\"https://colab.research.google.com/github/Yuvasrib/ML_STUDY_JAM/blob/main/ML_STUDY_JAM.ipynb\" target=\"_parent\"><img src=\"https://colab.research.google.com/assets/colab-badge.svg\" alt=\"Open In Colab\"/></a>"
      ]
    },
    {
      "cell_type": "markdown",
      "source": [
        "***ML_STUDY_JAM*** "
      ],
      "metadata": {
        "id": "nRng5_7jKDCQ"
      }
    },
    {
      "cell_type": "markdown",
      "source": [
        "***BY , YUVA SRI B***"
      ],
      "metadata": {
        "id": "Gg5dTxGbLHWj"
      }
    },
    {
      "cell_type": "markdown",
      "source": [
        "TASK 1 :\n",
        "\n",
        "Writing a Python program to do the following operations:"
      ],
      "metadata": {
        "id": "lnXsCn24LXp0"
      }
    },
    {
      "cell_type": "markdown",
      "source": [
        "**a)**    Loading data from CSV file"
      ],
      "metadata": {
        "id": "B9o2bk45Lqjc"
      }
    },
    {
      "cell_type": "code",
      "execution_count": 24,
      "metadata": {
        "id": "fyIgpNg7J1da"
      },
      "outputs": [],
      "source": [
        "# import libraries\n",
        "\n",
        "import pandas as pd"
      ]
    },
    {
      "cell_type": "code",
      "source": [
        "df=pd.read_csv(\"/content/ML_study_jam.csv\")"
      ],
      "metadata": {
        "id": "zvIboqUKLWnE"
      },
      "execution_count": 76,
      "outputs": []
    },
    {
      "cell_type": "markdown",
      "source": [
        "**b)**   Compute the basic statistics of given data - shape, no.of columns, mean"
      ],
      "metadata": {
        "id": "Xpd3tTI_MK_E"
      }
    },
    {
      "cell_type": "code",
      "source": [
        "df.shape"
      ],
      "metadata": {
        "colab": {
          "base_uri": "https://localhost:8080/"
        },
        "id": "Tcx-veRyKBxl",
        "outputId": "698568cf-4032-4d61-9091-0036c0614c39"
      },
      "execution_count": 26,
      "outputs": [
        {
          "output_type": "execute_result",
          "data": {
            "text/plain": [
              "(590, 5)"
            ]
          },
          "metadata": {},
          "execution_count": 26
        }
      ]
    },
    {
      "cell_type": "code",
      "source": [
        "df.columns"
      ],
      "metadata": {
        "colab": {
          "base_uri": "https://localhost:8080/"
        },
        "id": "JJWA_OKvMqeG",
        "outputId": "5a1992c5-9fb7-4e9b-bcf9-520be0530842"
      },
      "execution_count": 27,
      "outputs": [
        {
          "output_type": "execute_result",
          "data": {
            "text/plain": [
              "Index(['Store ID ', 'Store_Area', 'Items_Available', 'Daily_Customer_Count',\n",
              "       'Store_Sales'],\n",
              "      dtype='object')"
            ]
          },
          "metadata": {},
          "execution_count": 27
        }
      ]
    },
    {
      "cell_type": "code",
      "source": [
        "df.mean"
      ],
      "metadata": {
        "colab": {
          "base_uri": "https://localhost:8080/"
        },
        "id": "6y06lSyuMtmR",
        "outputId": "0051cfca-f28d-4e57-cad9-805ee76c4756"
      },
      "execution_count": 28,
      "outputs": [
        {
          "output_type": "execute_result",
          "data": {
            "text/plain": [
              "<bound method NDFrame._add_numeric_operations.<locals>.mean of      Store ID   Store_Area  Items_Available  Daily_Customer_Count  Store_Sales\n",
              "0          1.0      1659.0           1961.0                 530.0      66490.0\n",
              "1          2.0      1461.0           1752.0                 210.0      39820.0\n",
              "2          3.0      1340.0           1609.0                 720.0      54010.0\n",
              "3          4.0      1451.0           1748.0                 620.0      53730.0\n",
              "4          5.0      1770.0           2111.0                 450.0      46620.0\n",
              "..         ...         ...              ...                   ...          ...\n",
              "585      586.0      1227.0           1476.0                 720.0      56260.0\n",
              "586      587.0      1609.0           1930.0                 740.0      76470.0\n",
              "587      588.0      1553.0           1831.0                 740.0      35680.0\n",
              "588      589.0      1814.0           2174.0                 770.0      90070.0\n",
              "589      590.0      1240.0           1493.0                 590.0      33120.0\n",
              "\n",
              "[590 rows x 5 columns]>"
            ]
          },
          "metadata": {},
          "execution_count": 28
        }
      ]
    },
    {
      "cell_type": "markdown",
      "source": [
        "**c)**   Splitting a data frame on values of categorical variables"
      ],
      "metadata": {
        "id": "ZF16cj0aM6wi"
      }
    },
    {
      "cell_type": "code",
      "source": [
        "# split the data frame into two subsets based on the Store_Sales variable\n",
        "bins = ['26000','52000', '78000', '104000'] # define the bins\n",
        "labels = ['0-26000', '26000-78000' , '78000-104000'] # define the bin labels\n",
        "df['SalesRange'] = pd.cut(df['Store_Sales'], bins=bins, labels=labels)"
      ],
      "metadata": {
        "id": "GIN8eSvBQL2R"
      },
      "execution_count": 34,
      "outputs": []
    },
    {
      "cell_type": "code",
      "source": [
        "my_data_split = df.groupby(df['SalesRange'])"
      ],
      "metadata": {
        "id": "818Y5CrfRQ8g"
      },
      "execution_count": 32,
      "outputs": []
    },
    {
      "cell_type": "code",
      "source": [
        "print(my_data_split.get_group('0-26000'))"
      ],
      "metadata": {
        "colab": {
          "base_uri": "https://localhost:8080/"
        },
        "id": "UykXbjQHRh7V",
        "outputId": "25ed2ae6-6a23-408e-82c0-299f01de1778"
      },
      "execution_count": 33,
      "outputs": [
        {
          "output_type": "stream",
          "name": "stdout",
          "text": [
            "     Store ID   Store_Area  Items_Available  Daily_Customer_Count  \\\n",
            "1          2.0      1461.0           1752.0                 210.0   \n",
            "4          5.0      1770.0           2111.0                 450.0   \n",
            "5          6.0      1442.0           1733.0                 760.0   \n",
            "7          8.0      1261.0           1507.0                1020.0   \n",
            "8          9.0      1090.0           1321.0                 680.0   \n",
            "..         ...         ...              ...                   ...   \n",
            "580      581.0      1167.0           1406.0                 440.0   \n",
            "583      584.0      1408.0           1708.0                 220.0   \n",
            "584      585.0      1517.0           1831.0                 610.0   \n",
            "587      588.0      1553.0           1831.0                 740.0   \n",
            "589      590.0      1240.0           1493.0                 590.0   \n",
            "\n",
            "     Store_Sales SalesRange  \n",
            "1        39820.0    0-26000  \n",
            "4        46620.0    0-26000  \n",
            "5        45260.0    0-26000  \n",
            "7        37720.0    0-26000  \n",
            "8        46310.0    0-26000  \n",
            "..           ...        ...  \n",
            "580      42860.0    0-26000  \n",
            "583      42810.0    0-26000  \n",
            "584      30840.0    0-26000  \n",
            "587      35680.0    0-26000  \n",
            "589      33120.0    0-26000  \n",
            "\n",
            "[224 rows x 6 columns]\n"
          ]
        }
      ]
    },
    {
      "cell_type": "markdown",
      "source": [
        "**d)** Indexing of the data."
      ],
      "metadata": {
        "id": "4tAnGVtWT-vH"
      }
    },
    {
      "cell_type": "code",
      "source": [
        "print(df.iloc[0,3])  #Print 0th row 2st column value"
      ],
      "metadata": {
        "colab": {
          "base_uri": "https://localhost:8080/"
        },
        "id": "Ek5kasfdUCYr",
        "outputId": "36c172c6-029c-47b9-bdc7-b98c86932ba5"
      },
      "execution_count": 42,
      "outputs": [
        {
          "output_type": "stream",
          "name": "stdout",
          "text": [
            "530.0\n"
          ]
        }
      ]
    },
    {
      "cell_type": "code",
      "source": [
        "print(df.iloc[3,1])    #Print 3rd row 1st column value"
      ],
      "metadata": {
        "colab": {
          "base_uri": "https://localhost:8080/"
        },
        "id": "3DqMI4WBUuca",
        "outputId": "986a60b6-03b3-46f3-b66a-c289a48a54c7"
      },
      "execution_count": 43,
      "outputs": [
        {
          "output_type": "stream",
          "name": "stdout",
          "text": [
            "1451.0\n"
          ]
        }
      ]
    },
    {
      "cell_type": "code",
      "source": [
        "dataset=pd.DataFrame(df.iloc[:,1:4])     # Print 1st and 3rd column\n",
        "dataset"
      ],
      "metadata": {
        "colab": {
          "base_uri": "https://localhost:8080/",
          "height": 424
        },
        "id": "m8W7XuwXUkb-",
        "outputId": "e8f68af4-25aa-4c05-bbcb-0f79cd7fe9e1"
      },
      "execution_count": 47,
      "outputs": [
        {
          "output_type": "execute_result",
          "data": {
            "text/plain": [
              "     Store_Area  Items_Available  Daily_Customer_Count\n",
              "0        1659.0           1961.0                 530.0\n",
              "1        1461.0           1752.0                 210.0\n",
              "2        1340.0           1609.0                 720.0\n",
              "3        1451.0           1748.0                 620.0\n",
              "4        1770.0           2111.0                 450.0\n",
              "..          ...              ...                   ...\n",
              "585      1227.0           1476.0                 720.0\n",
              "586      1609.0           1930.0                 740.0\n",
              "587      1553.0           1831.0                 740.0\n",
              "588      1814.0           2174.0                 770.0\n",
              "589      1240.0           1493.0                 590.0\n",
              "\n",
              "[590 rows x 3 columns]"
            ],
            "text/html": [
              "\n",
              "  <div id=\"df-d9772c15-9b7d-45d9-8032-3a2fe546739c\">\n",
              "    <div class=\"colab-df-container\">\n",
              "      <div>\n",
              "<style scoped>\n",
              "    .dataframe tbody tr th:only-of-type {\n",
              "        vertical-align: middle;\n",
              "    }\n",
              "\n",
              "    .dataframe tbody tr th {\n",
              "        vertical-align: top;\n",
              "    }\n",
              "\n",
              "    .dataframe thead th {\n",
              "        text-align: right;\n",
              "    }\n",
              "</style>\n",
              "<table border=\"1\" class=\"dataframe\">\n",
              "  <thead>\n",
              "    <tr style=\"text-align: right;\">\n",
              "      <th></th>\n",
              "      <th>Store_Area</th>\n",
              "      <th>Items_Available</th>\n",
              "      <th>Daily_Customer_Count</th>\n",
              "    </tr>\n",
              "  </thead>\n",
              "  <tbody>\n",
              "    <tr>\n",
              "      <th>0</th>\n",
              "      <td>1659.0</td>\n",
              "      <td>1961.0</td>\n",
              "      <td>530.0</td>\n",
              "    </tr>\n",
              "    <tr>\n",
              "      <th>1</th>\n",
              "      <td>1461.0</td>\n",
              "      <td>1752.0</td>\n",
              "      <td>210.0</td>\n",
              "    </tr>\n",
              "    <tr>\n",
              "      <th>2</th>\n",
              "      <td>1340.0</td>\n",
              "      <td>1609.0</td>\n",
              "      <td>720.0</td>\n",
              "    </tr>\n",
              "    <tr>\n",
              "      <th>3</th>\n",
              "      <td>1451.0</td>\n",
              "      <td>1748.0</td>\n",
              "      <td>620.0</td>\n",
              "    </tr>\n",
              "    <tr>\n",
              "      <th>4</th>\n",
              "      <td>1770.0</td>\n",
              "      <td>2111.0</td>\n",
              "      <td>450.0</td>\n",
              "    </tr>\n",
              "    <tr>\n",
              "      <th>...</th>\n",
              "      <td>...</td>\n",
              "      <td>...</td>\n",
              "      <td>...</td>\n",
              "    </tr>\n",
              "    <tr>\n",
              "      <th>585</th>\n",
              "      <td>1227.0</td>\n",
              "      <td>1476.0</td>\n",
              "      <td>720.0</td>\n",
              "    </tr>\n",
              "    <tr>\n",
              "      <th>586</th>\n",
              "      <td>1609.0</td>\n",
              "      <td>1930.0</td>\n",
              "      <td>740.0</td>\n",
              "    </tr>\n",
              "    <tr>\n",
              "      <th>587</th>\n",
              "      <td>1553.0</td>\n",
              "      <td>1831.0</td>\n",
              "      <td>740.0</td>\n",
              "    </tr>\n",
              "    <tr>\n",
              "      <th>588</th>\n",
              "      <td>1814.0</td>\n",
              "      <td>2174.0</td>\n",
              "      <td>770.0</td>\n",
              "    </tr>\n",
              "    <tr>\n",
              "      <th>589</th>\n",
              "      <td>1240.0</td>\n",
              "      <td>1493.0</td>\n",
              "      <td>590.0</td>\n",
              "    </tr>\n",
              "  </tbody>\n",
              "</table>\n",
              "<p>590 rows × 3 columns</p>\n",
              "</div>\n",
              "      <button class=\"colab-df-convert\" onclick=\"convertToInteractive('df-d9772c15-9b7d-45d9-8032-3a2fe546739c')\"\n",
              "              title=\"Convert this dataframe to an interactive table.\"\n",
              "              style=\"display:none;\">\n",
              "        \n",
              "  <svg xmlns=\"http://www.w3.org/2000/svg\" height=\"24px\"viewBox=\"0 0 24 24\"\n",
              "       width=\"24px\">\n",
              "    <path d=\"M0 0h24v24H0V0z\" fill=\"none\"/>\n",
              "    <path d=\"M18.56 5.44l.94 2.06.94-2.06 2.06-.94-2.06-.94-.94-2.06-.94 2.06-2.06.94zm-11 1L8.5 8.5l.94-2.06 2.06-.94-2.06-.94L8.5 2.5l-.94 2.06-2.06.94zm10 10l.94 2.06.94-2.06 2.06-.94-2.06-.94-.94-2.06-.94 2.06-2.06.94z\"/><path d=\"M17.41 7.96l-1.37-1.37c-.4-.4-.92-.59-1.43-.59-.52 0-1.04.2-1.43.59L10.3 9.45l-7.72 7.72c-.78.78-.78 2.05 0 2.83L4 21.41c.39.39.9.59 1.41.59.51 0 1.02-.2 1.41-.59l7.78-7.78 2.81-2.81c.8-.78.8-2.07 0-2.86zM5.41 20L4 18.59l7.72-7.72 1.47 1.35L5.41 20z\"/>\n",
              "  </svg>\n",
              "      </button>\n",
              "      \n",
              "  <style>\n",
              "    .colab-df-container {\n",
              "      display:flex;\n",
              "      flex-wrap:wrap;\n",
              "      gap: 12px;\n",
              "    }\n",
              "\n",
              "    .colab-df-convert {\n",
              "      background-color: #E8F0FE;\n",
              "      border: none;\n",
              "      border-radius: 50%;\n",
              "      cursor: pointer;\n",
              "      display: none;\n",
              "      fill: #1967D2;\n",
              "      height: 32px;\n",
              "      padding: 0 0 0 0;\n",
              "      width: 32px;\n",
              "    }\n",
              "\n",
              "    .colab-df-convert:hover {\n",
              "      background-color: #E2EBFA;\n",
              "      box-shadow: 0px 1px 2px rgba(60, 64, 67, 0.3), 0px 1px 3px 1px rgba(60, 64, 67, 0.15);\n",
              "      fill: #174EA6;\n",
              "    }\n",
              "\n",
              "    [theme=dark] .colab-df-convert {\n",
              "      background-color: #3B4455;\n",
              "      fill: #D2E3FC;\n",
              "    }\n",
              "\n",
              "    [theme=dark] .colab-df-convert:hover {\n",
              "      background-color: #434B5C;\n",
              "      box-shadow: 0px 1px 3px 1px rgba(0, 0, 0, 0.15);\n",
              "      filter: drop-shadow(0px 1px 2px rgba(0, 0, 0, 0.3));\n",
              "      fill: #FFFFFF;\n",
              "    }\n",
              "  </style>\n",
              "\n",
              "      <script>\n",
              "        const buttonEl =\n",
              "          document.querySelector('#df-d9772c15-9b7d-45d9-8032-3a2fe546739c button.colab-df-convert');\n",
              "        buttonEl.style.display =\n",
              "          google.colab.kernel.accessAllowed ? 'block' : 'none';\n",
              "\n",
              "        async function convertToInteractive(key) {\n",
              "          const element = document.querySelector('#df-d9772c15-9b7d-45d9-8032-3a2fe546739c');\n",
              "          const dataTable =\n",
              "            await google.colab.kernel.invokeFunction('convertToInteractive',\n",
              "                                                     [key], {});\n",
              "          if (!dataTable) return;\n",
              "\n",
              "          const docLinkHtml = 'Like what you see? Visit the ' +\n",
              "            '<a target=\"_blank\" href=https://colab.research.google.com/notebooks/data_table.ipynb>data table notebook</a>'\n",
              "            + ' to learn more about interactive tables.';\n",
              "          element.innerHTML = '';\n",
              "          dataTable['output_type'] = 'display_data';\n",
              "          await google.colab.output.renderOutput(dataTable, element);\n",
              "          const docLink = document.createElement('div');\n",
              "          docLink.innerHTML = docLinkHtml;\n",
              "          element.appendChild(docLink);\n",
              "        }\n",
              "      </script>\n",
              "    </div>\n",
              "  </div>\n",
              "  "
            ]
          },
          "metadata": {},
          "execution_count": 47
        }
      ]
    },
    {
      "cell_type": "code",
      "source": [
        "dataset=pd.DataFrame(df.iloc[2:7,0:])     # Print 2nd to 6th row \n",
        "dataset"
      ],
      "metadata": {
        "colab": {
          "base_uri": "https://localhost:8080/",
          "height": 206
        },
        "id": "b3nwrYDyVtup",
        "outputId": "92ac93d2-bb2c-4a84-9dda-1132407cb945"
      },
      "execution_count": 51,
      "outputs": [
        {
          "output_type": "execute_result",
          "data": {
            "text/plain": [
              "   Store ID   Store_Area  Items_Available  Daily_Customer_Count  Store_Sales  \\\n",
              "2        3.0      1340.0           1609.0                 720.0      54010.0   \n",
              "3        4.0      1451.0           1748.0                 620.0      53730.0   \n",
              "4        5.0      1770.0           2111.0                 450.0      46620.0   \n",
              "5        6.0      1442.0           1733.0                 760.0      45260.0   \n",
              "6        7.0      1542.0           1858.0                1030.0      72240.0   \n",
              "\n",
              "    SalesRange  \n",
              "2  26000-78000  \n",
              "3  26000-78000  \n",
              "4      0-26000  \n",
              "5      0-26000  \n",
              "6  26000-78000  "
            ],
            "text/html": [
              "\n",
              "  <div id=\"df-4504b4cc-1d88-4d93-9460-4da783e16f64\">\n",
              "    <div class=\"colab-df-container\">\n",
              "      <div>\n",
              "<style scoped>\n",
              "    .dataframe tbody tr th:only-of-type {\n",
              "        vertical-align: middle;\n",
              "    }\n",
              "\n",
              "    .dataframe tbody tr th {\n",
              "        vertical-align: top;\n",
              "    }\n",
              "\n",
              "    .dataframe thead th {\n",
              "        text-align: right;\n",
              "    }\n",
              "</style>\n",
              "<table border=\"1\" class=\"dataframe\">\n",
              "  <thead>\n",
              "    <tr style=\"text-align: right;\">\n",
              "      <th></th>\n",
              "      <th>Store ID</th>\n",
              "      <th>Store_Area</th>\n",
              "      <th>Items_Available</th>\n",
              "      <th>Daily_Customer_Count</th>\n",
              "      <th>Store_Sales</th>\n",
              "      <th>SalesRange</th>\n",
              "    </tr>\n",
              "  </thead>\n",
              "  <tbody>\n",
              "    <tr>\n",
              "      <th>2</th>\n",
              "      <td>3.0</td>\n",
              "      <td>1340.0</td>\n",
              "      <td>1609.0</td>\n",
              "      <td>720.0</td>\n",
              "      <td>54010.0</td>\n",
              "      <td>26000-78000</td>\n",
              "    </tr>\n",
              "    <tr>\n",
              "      <th>3</th>\n",
              "      <td>4.0</td>\n",
              "      <td>1451.0</td>\n",
              "      <td>1748.0</td>\n",
              "      <td>620.0</td>\n",
              "      <td>53730.0</td>\n",
              "      <td>26000-78000</td>\n",
              "    </tr>\n",
              "    <tr>\n",
              "      <th>4</th>\n",
              "      <td>5.0</td>\n",
              "      <td>1770.0</td>\n",
              "      <td>2111.0</td>\n",
              "      <td>450.0</td>\n",
              "      <td>46620.0</td>\n",
              "      <td>0-26000</td>\n",
              "    </tr>\n",
              "    <tr>\n",
              "      <th>5</th>\n",
              "      <td>6.0</td>\n",
              "      <td>1442.0</td>\n",
              "      <td>1733.0</td>\n",
              "      <td>760.0</td>\n",
              "      <td>45260.0</td>\n",
              "      <td>0-26000</td>\n",
              "    </tr>\n",
              "    <tr>\n",
              "      <th>6</th>\n",
              "      <td>7.0</td>\n",
              "      <td>1542.0</td>\n",
              "      <td>1858.0</td>\n",
              "      <td>1030.0</td>\n",
              "      <td>72240.0</td>\n",
              "      <td>26000-78000</td>\n",
              "    </tr>\n",
              "  </tbody>\n",
              "</table>\n",
              "</div>\n",
              "      <button class=\"colab-df-convert\" onclick=\"convertToInteractive('df-4504b4cc-1d88-4d93-9460-4da783e16f64')\"\n",
              "              title=\"Convert this dataframe to an interactive table.\"\n",
              "              style=\"display:none;\">\n",
              "        \n",
              "  <svg xmlns=\"http://www.w3.org/2000/svg\" height=\"24px\"viewBox=\"0 0 24 24\"\n",
              "       width=\"24px\">\n",
              "    <path d=\"M0 0h24v24H0V0z\" fill=\"none\"/>\n",
              "    <path d=\"M18.56 5.44l.94 2.06.94-2.06 2.06-.94-2.06-.94-.94-2.06-.94 2.06-2.06.94zm-11 1L8.5 8.5l.94-2.06 2.06-.94-2.06-.94L8.5 2.5l-.94 2.06-2.06.94zm10 10l.94 2.06.94-2.06 2.06-.94-2.06-.94-.94-2.06-.94 2.06-2.06.94z\"/><path d=\"M17.41 7.96l-1.37-1.37c-.4-.4-.92-.59-1.43-.59-.52 0-1.04.2-1.43.59L10.3 9.45l-7.72 7.72c-.78.78-.78 2.05 0 2.83L4 21.41c.39.39.9.59 1.41.59.51 0 1.02-.2 1.41-.59l7.78-7.78 2.81-2.81c.8-.78.8-2.07 0-2.86zM5.41 20L4 18.59l7.72-7.72 1.47 1.35L5.41 20z\"/>\n",
              "  </svg>\n",
              "      </button>\n",
              "      \n",
              "  <style>\n",
              "    .colab-df-container {\n",
              "      display:flex;\n",
              "      flex-wrap:wrap;\n",
              "      gap: 12px;\n",
              "    }\n",
              "\n",
              "    .colab-df-convert {\n",
              "      background-color: #E8F0FE;\n",
              "      border: none;\n",
              "      border-radius: 50%;\n",
              "      cursor: pointer;\n",
              "      display: none;\n",
              "      fill: #1967D2;\n",
              "      height: 32px;\n",
              "      padding: 0 0 0 0;\n",
              "      width: 32px;\n",
              "    }\n",
              "\n",
              "    .colab-df-convert:hover {\n",
              "      background-color: #E2EBFA;\n",
              "      box-shadow: 0px 1px 2px rgba(60, 64, 67, 0.3), 0px 1px 3px 1px rgba(60, 64, 67, 0.15);\n",
              "      fill: #174EA6;\n",
              "    }\n",
              "\n",
              "    [theme=dark] .colab-df-convert {\n",
              "      background-color: #3B4455;\n",
              "      fill: #D2E3FC;\n",
              "    }\n",
              "\n",
              "    [theme=dark] .colab-df-convert:hover {\n",
              "      background-color: #434B5C;\n",
              "      box-shadow: 0px 1px 3px 1px rgba(0, 0, 0, 0.15);\n",
              "      filter: drop-shadow(0px 1px 2px rgba(0, 0, 0, 0.3));\n",
              "      fill: #FFFFFF;\n",
              "    }\n",
              "  </style>\n",
              "\n",
              "      <script>\n",
              "        const buttonEl =\n",
              "          document.querySelector('#df-4504b4cc-1d88-4d93-9460-4da783e16f64 button.colab-df-convert');\n",
              "        buttonEl.style.display =\n",
              "          google.colab.kernel.accessAllowed ? 'block' : 'none';\n",
              "\n",
              "        async function convertToInteractive(key) {\n",
              "          const element = document.querySelector('#df-4504b4cc-1d88-4d93-9460-4da783e16f64');\n",
              "          const dataTable =\n",
              "            await google.colab.kernel.invokeFunction('convertToInteractive',\n",
              "                                                     [key], {});\n",
              "          if (!dataTable) return;\n",
              "\n",
              "          const docLinkHtml = 'Like what you see? Visit the ' +\n",
              "            '<a target=\"_blank\" href=https://colab.research.google.com/notebooks/data_table.ipynb>data table notebook</a>'\n",
              "            + ' to learn more about interactive tables.';\n",
              "          element.innerHTML = '';\n",
              "          dataTable['output_type'] = 'display_data';\n",
              "          await google.colab.output.renderOutput(dataTable, element);\n",
              "          const docLink = document.createElement('div');\n",
              "          docLink.innerHTML = docLinkHtml;\n",
              "          element.appendChild(docLink);\n",
              "        }\n",
              "      </script>\n",
              "    </div>\n",
              "  </div>\n",
              "  "
            ]
          },
          "metadata": {},
          "execution_count": 51
        }
      ]
    },
    {
      "cell_type": "markdown",
      "source": [
        "**e)** Display top 10 rows of data"
      ],
      "metadata": {
        "id": "FOyiRk0iWFmw"
      }
    },
    {
      "cell_type": "code",
      "source": [
        "df.head(10)"
      ],
      "metadata": {
        "colab": {
          "base_uri": "https://localhost:8080/",
          "height": 363
        },
        "id": "22EeD1RIVtix",
        "outputId": "274484e2-c70d-4c39-977c-12cc5ea7b0d4"
      },
      "execution_count": 49,
      "outputs": [
        {
          "output_type": "execute_result",
          "data": {
            "text/plain": [
              "   Store ID   Store_Area  Items_Available  Daily_Customer_Count  Store_Sales  \\\n",
              "0        1.0      1659.0           1961.0                 530.0      66490.0   \n",
              "1        2.0      1461.0           1752.0                 210.0      39820.0   \n",
              "2        3.0      1340.0           1609.0                 720.0      54010.0   \n",
              "3        4.0      1451.0           1748.0                 620.0      53730.0   \n",
              "4        5.0      1770.0           2111.0                 450.0      46620.0   \n",
              "5        6.0      1442.0           1733.0                 760.0      45260.0   \n",
              "6        7.0      1542.0           1858.0                1030.0      72240.0   \n",
              "7        8.0      1261.0           1507.0                1020.0      37720.0   \n",
              "8        9.0      1090.0           1321.0                 680.0      46310.0   \n",
              "9       10.0      1030.0           1235.0                1130.0      44150.0   \n",
              "\n",
              "    SalesRange  \n",
              "0  26000-78000  \n",
              "1      0-26000  \n",
              "2  26000-78000  \n",
              "3  26000-78000  \n",
              "4      0-26000  \n",
              "5      0-26000  \n",
              "6  26000-78000  \n",
              "7      0-26000  \n",
              "8      0-26000  \n",
              "9      0-26000  "
            ],
            "text/html": [
              "\n",
              "  <div id=\"df-d252c533-f973-4f75-830b-c986ea9e3295\">\n",
              "    <div class=\"colab-df-container\">\n",
              "      <div>\n",
              "<style scoped>\n",
              "    .dataframe tbody tr th:only-of-type {\n",
              "        vertical-align: middle;\n",
              "    }\n",
              "\n",
              "    .dataframe tbody tr th {\n",
              "        vertical-align: top;\n",
              "    }\n",
              "\n",
              "    .dataframe thead th {\n",
              "        text-align: right;\n",
              "    }\n",
              "</style>\n",
              "<table border=\"1\" class=\"dataframe\">\n",
              "  <thead>\n",
              "    <tr style=\"text-align: right;\">\n",
              "      <th></th>\n",
              "      <th>Store ID</th>\n",
              "      <th>Store_Area</th>\n",
              "      <th>Items_Available</th>\n",
              "      <th>Daily_Customer_Count</th>\n",
              "      <th>Store_Sales</th>\n",
              "      <th>SalesRange</th>\n",
              "    </tr>\n",
              "  </thead>\n",
              "  <tbody>\n",
              "    <tr>\n",
              "      <th>0</th>\n",
              "      <td>1.0</td>\n",
              "      <td>1659.0</td>\n",
              "      <td>1961.0</td>\n",
              "      <td>530.0</td>\n",
              "      <td>66490.0</td>\n",
              "      <td>26000-78000</td>\n",
              "    </tr>\n",
              "    <tr>\n",
              "      <th>1</th>\n",
              "      <td>2.0</td>\n",
              "      <td>1461.0</td>\n",
              "      <td>1752.0</td>\n",
              "      <td>210.0</td>\n",
              "      <td>39820.0</td>\n",
              "      <td>0-26000</td>\n",
              "    </tr>\n",
              "    <tr>\n",
              "      <th>2</th>\n",
              "      <td>3.0</td>\n",
              "      <td>1340.0</td>\n",
              "      <td>1609.0</td>\n",
              "      <td>720.0</td>\n",
              "      <td>54010.0</td>\n",
              "      <td>26000-78000</td>\n",
              "    </tr>\n",
              "    <tr>\n",
              "      <th>3</th>\n",
              "      <td>4.0</td>\n",
              "      <td>1451.0</td>\n",
              "      <td>1748.0</td>\n",
              "      <td>620.0</td>\n",
              "      <td>53730.0</td>\n",
              "      <td>26000-78000</td>\n",
              "    </tr>\n",
              "    <tr>\n",
              "      <th>4</th>\n",
              "      <td>5.0</td>\n",
              "      <td>1770.0</td>\n",
              "      <td>2111.0</td>\n",
              "      <td>450.0</td>\n",
              "      <td>46620.0</td>\n",
              "      <td>0-26000</td>\n",
              "    </tr>\n",
              "    <tr>\n",
              "      <th>5</th>\n",
              "      <td>6.0</td>\n",
              "      <td>1442.0</td>\n",
              "      <td>1733.0</td>\n",
              "      <td>760.0</td>\n",
              "      <td>45260.0</td>\n",
              "      <td>0-26000</td>\n",
              "    </tr>\n",
              "    <tr>\n",
              "      <th>6</th>\n",
              "      <td>7.0</td>\n",
              "      <td>1542.0</td>\n",
              "      <td>1858.0</td>\n",
              "      <td>1030.0</td>\n",
              "      <td>72240.0</td>\n",
              "      <td>26000-78000</td>\n",
              "    </tr>\n",
              "    <tr>\n",
              "      <th>7</th>\n",
              "      <td>8.0</td>\n",
              "      <td>1261.0</td>\n",
              "      <td>1507.0</td>\n",
              "      <td>1020.0</td>\n",
              "      <td>37720.0</td>\n",
              "      <td>0-26000</td>\n",
              "    </tr>\n",
              "    <tr>\n",
              "      <th>8</th>\n",
              "      <td>9.0</td>\n",
              "      <td>1090.0</td>\n",
              "      <td>1321.0</td>\n",
              "      <td>680.0</td>\n",
              "      <td>46310.0</td>\n",
              "      <td>0-26000</td>\n",
              "    </tr>\n",
              "    <tr>\n",
              "      <th>9</th>\n",
              "      <td>10.0</td>\n",
              "      <td>1030.0</td>\n",
              "      <td>1235.0</td>\n",
              "      <td>1130.0</td>\n",
              "      <td>44150.0</td>\n",
              "      <td>0-26000</td>\n",
              "    </tr>\n",
              "  </tbody>\n",
              "</table>\n",
              "</div>\n",
              "      <button class=\"colab-df-convert\" onclick=\"convertToInteractive('df-d252c533-f973-4f75-830b-c986ea9e3295')\"\n",
              "              title=\"Convert this dataframe to an interactive table.\"\n",
              "              style=\"display:none;\">\n",
              "        \n",
              "  <svg xmlns=\"http://www.w3.org/2000/svg\" height=\"24px\"viewBox=\"0 0 24 24\"\n",
              "       width=\"24px\">\n",
              "    <path d=\"M0 0h24v24H0V0z\" fill=\"none\"/>\n",
              "    <path d=\"M18.56 5.44l.94 2.06.94-2.06 2.06-.94-2.06-.94-.94-2.06-.94 2.06-2.06.94zm-11 1L8.5 8.5l.94-2.06 2.06-.94-2.06-.94L8.5 2.5l-.94 2.06-2.06.94zm10 10l.94 2.06.94-2.06 2.06-.94-2.06-.94-.94-2.06-.94 2.06-2.06.94z\"/><path d=\"M17.41 7.96l-1.37-1.37c-.4-.4-.92-.59-1.43-.59-.52 0-1.04.2-1.43.59L10.3 9.45l-7.72 7.72c-.78.78-.78 2.05 0 2.83L4 21.41c.39.39.9.59 1.41.59.51 0 1.02-.2 1.41-.59l7.78-7.78 2.81-2.81c.8-.78.8-2.07 0-2.86zM5.41 20L4 18.59l7.72-7.72 1.47 1.35L5.41 20z\"/>\n",
              "  </svg>\n",
              "      </button>\n",
              "      \n",
              "  <style>\n",
              "    .colab-df-container {\n",
              "      display:flex;\n",
              "      flex-wrap:wrap;\n",
              "      gap: 12px;\n",
              "    }\n",
              "\n",
              "    .colab-df-convert {\n",
              "      background-color: #E8F0FE;\n",
              "      border: none;\n",
              "      border-radius: 50%;\n",
              "      cursor: pointer;\n",
              "      display: none;\n",
              "      fill: #1967D2;\n",
              "      height: 32px;\n",
              "      padding: 0 0 0 0;\n",
              "      width: 32px;\n",
              "    }\n",
              "\n",
              "    .colab-df-convert:hover {\n",
              "      background-color: #E2EBFA;\n",
              "      box-shadow: 0px 1px 2px rgba(60, 64, 67, 0.3), 0px 1px 3px 1px rgba(60, 64, 67, 0.15);\n",
              "      fill: #174EA6;\n",
              "    }\n",
              "\n",
              "    [theme=dark] .colab-df-convert {\n",
              "      background-color: #3B4455;\n",
              "      fill: #D2E3FC;\n",
              "    }\n",
              "\n",
              "    [theme=dark] .colab-df-convert:hover {\n",
              "      background-color: #434B5C;\n",
              "      box-shadow: 0px 1px 3px 1px rgba(0, 0, 0, 0.15);\n",
              "      filter: drop-shadow(0px 1px 2px rgba(0, 0, 0, 0.3));\n",
              "      fill: #FFFFFF;\n",
              "    }\n",
              "  </style>\n",
              "\n",
              "      <script>\n",
              "        const buttonEl =\n",
              "          document.querySelector('#df-d252c533-f973-4f75-830b-c986ea9e3295 button.colab-df-convert');\n",
              "        buttonEl.style.display =\n",
              "          google.colab.kernel.accessAllowed ? 'block' : 'none';\n",
              "\n",
              "        async function convertToInteractive(key) {\n",
              "          const element = document.querySelector('#df-d252c533-f973-4f75-830b-c986ea9e3295');\n",
              "          const dataTable =\n",
              "            await google.colab.kernel.invokeFunction('convertToInteractive',\n",
              "                                                     [key], {});\n",
              "          if (!dataTable) return;\n",
              "\n",
              "          const docLinkHtml = 'Like what you see? Visit the ' +\n",
              "            '<a target=\"_blank\" href=https://colab.research.google.com/notebooks/data_table.ipynb>data table notebook</a>'\n",
              "            + ' to learn more about interactive tables.';\n",
              "          element.innerHTML = '';\n",
              "          dataTable['output_type'] = 'display_data';\n",
              "          await google.colab.output.renderOutput(dataTable, element);\n",
              "          const docLink = document.createElement('div');\n",
              "          docLink.innerHTML = docLinkHtml;\n",
              "          element.appendChild(docLink);\n",
              "        }\n",
              "      </script>\n",
              "    </div>\n",
              "  </div>\n",
              "  "
            ]
          },
          "metadata": {},
          "execution_count": 49
        }
      ]
    },
    {
      "cell_type": "markdown",
      "source": [
        "-----------------------------------------------\n",
        "\n",
        "***TASK 2***"
      ],
      "metadata": {
        "id": "F5vuI3aSWfA-"
      }
    },
    {
      "cell_type": "markdown",
      "source": [
        "***2*** .    Write a python program to impute missing values with various techniques on given dataset. "
      ],
      "metadata": {
        "id": "4x-p6-8fWi0L"
      }
    },
    {
      "cell_type": "markdown",
      "source": [
        "***a)*** Remove rows/ attributes "
      ],
      "metadata": {
        "id": "z3h566-cWo9U"
      }
    },
    {
      "cell_type": "code",
      "source": [
        "# remove the ' Daily_Customer_Count' attribute\n",
        "remove = df.drop(['Daily_Customer_Count'], axis=1)\n",
        "\n",
        "# remove the row with index 3\n",
        "remove = df.drop(3)\n",
        "\n",
        "print(remove)"
      ],
      "metadata": {
        "colab": {
          "base_uri": "https://localhost:8080/"
        },
        "id": "mOUMWLS-W7oL",
        "outputId": "d46c03b6-4c4c-4389-caec-b45815ef6473"
      },
      "execution_count": 77,
      "outputs": [
        {
          "output_type": "stream",
          "name": "stdout",
          "text": [
            "     Store ID   Store_Area  Items_Available  Daily_Customer_Count  Store_Sales\n",
            "0          1.0      1659.0           1961.0                 530.0      66490.0\n",
            "1          2.0      1461.0           1752.0                 210.0      39820.0\n",
            "2          3.0      1340.0           1609.0                 720.0      54010.0\n",
            "4          5.0      1770.0           2111.0                 450.0      46620.0\n",
            "5          6.0      1442.0           1733.0                 760.0      45260.0\n",
            "..         ...         ...              ...                   ...          ...\n",
            "585      586.0      1227.0           1476.0                 720.0      56260.0\n",
            "586      587.0      1609.0           1930.0                 740.0      76470.0\n",
            "587      588.0      1553.0           1831.0                 740.0      35680.0\n",
            "588      589.0      1814.0           2174.0                 770.0      90070.0\n",
            "589      590.0      1240.0           1493.0                 590.0      33120.0\n",
            "\n",
            "[589 rows x 5 columns]\n"
          ]
        }
      ]
    },
    {
      "cell_type": "markdown",
      "source": [
        "\n",
        "**b)** Replace with mean or mode "
      ],
      "metadata": {
        "id": "OyIUsFhPZuLD"
      }
    },
    {
      "cell_type": "code",
      "source": [
        "# replace missing values in 'Store_Area' column with mean\n",
        "replace = df['Store_Area'].mean()\n",
        "df['Store_Area'] = df['Store_Area'].fillna(replace )"
      ],
      "metadata": {
        "id": "zAT2FOEQZ0HB"
      },
      "execution_count": 94,
      "outputs": []
    },
    {
      "cell_type": "code",
      "source": [
        "df['Store_Area']"
      ],
      "metadata": {
        "colab": {
          "base_uri": "https://localhost:8080/"
        },
        "id": "8tpZDQjDaNgn",
        "outputId": "95938cc3-75b3-49b9-fe55-22c0155fc3d8"
      },
      "execution_count": 100,
      "outputs": [
        {
          "output_type": "execute_result",
          "data": {
            "text/plain": [
              "0      1659.0\n",
              "1      1461.0\n",
              "2      1340.0\n",
              "3      1451.0\n",
              "4      1770.0\n",
              "        ...  \n",
              "585    1227.0\n",
              "586    1609.0\n",
              "587    1553.0\n",
              "588    1814.0\n",
              "589    1240.0\n",
              "Name: Store_Area, Length: 590, dtype: float64"
            ]
          },
          "metadata": {},
          "execution_count": 100
        }
      ]
    },
    {
      "cell_type": "code",
      "source": [
        "# replace missing values in 'Items_Available' column with mean\n",
        "replace = df['Store_Sales'].mean()\n",
        "df['Store_Sales'] = df['Store_Sales'].fillna(replace )\n",
        "df['Store_Sales']"
      ],
      "metadata": {
        "colab": {
          "base_uri": "https://localhost:8080/"
        },
        "id": "58qwwdKSatRC",
        "outputId": "675284f7-cacb-4d97-827e-3d8f594b7d64"
      },
      "execution_count": 99,
      "outputs": [
        {
          "output_type": "execute_result",
          "data": {
            "text/plain": [
              "0      66490.0\n",
              "1      39820.0\n",
              "2      54010.0\n",
              "3      53730.0\n",
              "4      46620.0\n",
              "        ...   \n",
              "585    56260.0\n",
              "586    76470.0\n",
              "587    35680.0\n",
              "588    90070.0\n",
              "589    33120.0\n",
              "Name: Store_Sales, Length: 590, dtype: float64"
            ]
          },
          "metadata": {},
          "execution_count": 99
        }
      ]
    },
    {
      "cell_type": "code",
      "source": [
        "# replace missing values in 'Daily_Customer_Count' column with mean\n",
        "replace = df['Daily_Customer_Count'].mean()\n",
        "df['Daily_Customer_Count'] = df['Daily_Customer_Count'].fillna(replace)\n",
        "df['Daily_Customer_Count']"
      ],
      "metadata": {
        "colab": {
          "base_uri": "https://localhost:8080/"
        },
        "id": "Tm0_-cnYbD6N",
        "outputId": "aa87eb01-4cf6-4c5a-f400-1126f9c56405"
      },
      "execution_count": 97,
      "outputs": [
        {
          "output_type": "execute_result",
          "data": {
            "text/plain": [
              "0      530.0\n",
              "1      210.0\n",
              "2      720.0\n",
              "3      620.0\n",
              "4      450.0\n",
              "       ...  \n",
              "585    720.0\n",
              "586    740.0\n",
              "587    740.0\n",
              "588    770.0\n",
              "589    590.0\n",
              "Name: Daily_Customer_Count, Length: 590, dtype: float64"
            ]
          },
          "metadata": {},
          "execution_count": 97
        }
      ]
    },
    {
      "cell_type": "markdown",
      "source": [
        "***c)*** Write a program to remove /replace missing values\n",
        "beyond a threshold  value."
      ],
      "metadata": {
        "id": "g7QsPP5OcuyT"
      }
    },
    {
      "cell_type": "code",
      "source": [
        "# specify a threshold value\n",
        "threshold = 0.05\n",
        "\n",
        "# calculate the percentage of missing values in each column\n",
        "percent_missing = df.isnull().sum() / len(df)\n",
        "print(percent_missing)\n",
        "\n",
        "# remove columns with more than the specified threshold of missing values\n",
        "df = df.loc[:, percent_missing < threshold]\n",
        "print(df)\n",
        "\n",
        "# replace missing values in remaining columns with their means\n",
        "df.fillna(df.mean(), inplace=True)\n",
        "print(df)"
      ],
      "metadata": {
        "colab": {
          "base_uri": "https://localhost:8080/"
        },
        "id": "_8r9uf8tcugj",
        "outputId": "60c7cfd8-a2bd-4041-a704-e2af18535c99"
      },
      "execution_count": 106,
      "outputs": [
        {
          "output_type": "stream",
          "name": "stdout",
          "text": [
            "Store ID                0.00339\n",
            "Store_Area              0.00000\n",
            "Items_Available         0.00000\n",
            "Daily_Customer_Count    0.00000\n",
            "Store_Sales             0.00000\n",
            "dtype: float64\n",
            "     Store ID   Store_Area  Items_Available  Daily_Customer_Count  Store_Sales\n",
            "0          1.0      1659.0            530.0                 530.0      66490.0\n",
            "1          2.0      1461.0            210.0                 210.0      39820.0\n",
            "2          3.0      1340.0            720.0                 720.0      54010.0\n",
            "3          4.0      1451.0            620.0                 620.0      53730.0\n",
            "4          5.0      1770.0            450.0                 450.0      46620.0\n",
            "..         ...         ...              ...                   ...          ...\n",
            "585      586.0      1227.0            720.0                 720.0      56260.0\n",
            "586      587.0      1609.0            740.0                 740.0      76470.0\n",
            "587      588.0      1553.0            740.0                 740.0      35680.0\n",
            "588      589.0      1814.0            770.0                 770.0      90070.0\n",
            "589      590.0      1240.0            590.0                 590.0      33120.0\n",
            "\n",
            "[590 rows x 5 columns]\n",
            "     Store ID   Store_Area  Items_Available  Daily_Customer_Count  Store_Sales\n",
            "0          1.0      1659.0            530.0                 530.0      66490.0\n",
            "1          2.0      1461.0            210.0                 210.0      39820.0\n",
            "2          3.0      1340.0            720.0                 720.0      54010.0\n",
            "3          4.0      1451.0            620.0                 620.0      53730.0\n",
            "4          5.0      1770.0            450.0                 450.0      46620.0\n",
            "..         ...         ...              ...                   ...          ...\n",
            "585      586.0      1227.0            720.0                 720.0      56260.0\n",
            "586      587.0      1609.0            740.0                 740.0      76470.0\n",
            "587      588.0      1553.0            740.0                 740.0      35680.0\n",
            "588      589.0      1814.0            770.0                 770.0      90070.0\n",
            "589      590.0      1240.0            590.0                 590.0      33120.0\n",
            "\n",
            "[590 rows x 5 columns]\n"
          ]
        }
      ]
    },
    {
      "cell_type": "markdown",
      "source": [
        "***THANK YOU***"
      ],
      "metadata": {
        "id": "k6aCL1rSd1MR"
      }
    },
    {
      "cell_type": "markdown",
      "source": [
        "--------------------------------------------------"
      ],
      "metadata": {
        "id": "5Mc3_Shid6yq"
      }
    }
  ]
}